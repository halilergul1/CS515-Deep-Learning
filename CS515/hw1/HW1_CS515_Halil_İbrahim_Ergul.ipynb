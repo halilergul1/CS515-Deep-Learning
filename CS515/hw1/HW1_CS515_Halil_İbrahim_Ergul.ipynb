{
  "nbformat": 4,
  "nbformat_minor": 0,
  "metadata": {
    "colab": {
      "provenance": [],
      "collapsed_sections": [
        "VfrIB9-JBkmM",
        "Oc_xQE6FDizN",
        "jrd2HWCgD1Hp",
        "Zf3vfUf7GJO4"
      ]
    },
    "kernelspec": {
      "name": "python3",
      "display_name": "Python 3"
    },
    "language_info": {
      "name": "python"
    },
    "gpuClass": "standard"
  },
  "cells": [
    {
      "cell_type": "markdown",
      "source": [
        "\n",
        "# CS515 - Deep Learning - 2023\n",
        "## Homework 1 - Basic FeedForward Network\n",
        "100 pts\n",
        "\n",
        "## Task: \n",
        "Get hands-on experience with training a shallow neural network (1- or 2-hidden layers only) on a small but adjustable problem.\n",
        "\n",
        "## Software: \n",
        "\n",
        "You may find the necessary function references here: \n",
        "\n",
        "https://pytorch.org/docs/stable/torch.html"
      ],
      "metadata": {
        "id": "J_kYfsAj8kw1"
      }
    },
    {
      "cell_type": "markdown",
      "source": [
        "## Mount your files (not needed for this homework)"
      ],
      "metadata": {
        "id": "VfrIB9-JBkmM"
      }
    },
    {
      "cell_type": "code",
      "source": [
        "#Add in the future if you need to transfer data\n",
        "\n",
        "#from google.colab import drive\n",
        "#drive.mount('/content/gdrive')"
      ],
      "metadata": {
        "id": "vUIt1yDc-KZ5"
      },
      "execution_count": null,
      "outputs": []
    },
    {
      "cell_type": "markdown",
      "source": [
        "## Include the necessary libraries"
      ],
      "metadata": {
        "id": "_hd899eDBxBy"
      }
    },
    {
      "cell_type": "code",
      "execution_count": null,
      "metadata": {
        "id": "qjZsRuYGmMnq"
      },
      "outputs": [],
      "source": [
        "#import pytorch\n",
        "import torch\n",
        "import torch.optim as optim\n",
        "#for plotting the learning curve\n",
        "import matplotlib.pyplot as plt\n",
        "import random\n",
        "import numpy as np\n"
      ]
    },
    {
      "cell_type": "markdown",
      "source": [
        "## Hyperparameters"
      ],
      "metadata": {
        "id": "zVPEwwzYB7ZF"
      }
    },
    {
      "cell_type": "code",
      "source": [
        "f  = 2       # target function frequency\n",
        "max_epochs = 200_000 # maximum number of epochs\n",
        "hiddensize = 100    # number of hidden layers for your network\n",
        "lr =  1e-3        # learning rate\n",
        "momentum = 0.9        # momentum parameter for SGD optimizer\n",
        "num_hidden_layers = 2       # number of hidden layers"
      ],
      "metadata": {
        "id": "ochiJvnN-fwF"
      },
      "execution_count": null,
      "outputs": []
    },
    {
      "cell_type": "markdown",
      "source": [
        "## Set a random seed for reproducibility"
      ],
      "metadata": {
        "id": "E1NE047kCc8D"
      }
    },
    {
      "cell_type": "code",
      "source": [
        "seed = 42\n",
        "random.seed(seed)\n",
        "np.random.seed(seed)\n",
        "torch.manual_seed(seed)"
      ],
      "metadata": {
        "id": "J6ZhbW6A2D5R",
        "colab": {
          "base_uri": "https://localhost:8080/"
        },
        "outputId": "6cbf1604-291e-4ded-b3b9-7a697fbb4905"
      },
      "execution_count": null,
      "outputs": [
        {
          "output_type": "execute_result",
          "data": {
            "text/plain": [
              "<torch._C.Generator at 0x7f6c844b7670>"
            ]
          },
          "metadata": {},
          "execution_count": 91
        }
      ]
    },
    {
      "cell_type": "markdown",
      "source": [
        "## Generate and plot the data"
      ],
      "metadata": {
        "id": "Oc_xQE6FDizN"
      }
    },
    {
      "cell_type": "code",
      "source": [
        "def return_data(num_samples):\n",
        "    '''\n",
        "    Function generates num_samples many instances of (x, sin(2 * pi * f * x)) pairs\n",
        "    '''\n",
        "    x = torch.Tensor(np.random.rand(num_samples, 1) * 100)\n",
        "    y = np.sin(2 * 3.14 * f / 100 * x)\n",
        "    return x, y\n",
        "\n",
        "# Set the number of instances\n",
        "num_train = 50\n",
        "num_test = 50\n",
        "# Generate train and test data\n",
        "x_train, y_train = return_data(num_train)\n",
        "x_test, y_test = return_data(num_test)\n",
        "x_val, y_val = return_data(num_val) \n",
        "# Show first 5 instances\n",
        "print(x_train[:5])\n",
        "print(y_train[:5])\n",
        "# Plot the training data\n",
        "plt.scatter(x_train.numpy(), y_train.numpy(), label='Training Data')\n",
        "# Plot the test data\n",
        "plt.scatter(x_test.numpy(), y_test.numpy(), label='Test Data')\n",
        "plt.title(\"Training and Test Data\")\n",
        "plt.xlabel(\"x\")\n",
        "plt.ylabel(\"y\")\n",
        "plt.legend()\n",
        "plt.show()\n"
      ],
      "metadata": {
        "id": "JEWb9f7PnDfk",
        "colab": {
          "base_uri": "https://localhost:8080/"
        },
        "outputId": "0a1f7d02-b106-4bb8-b40f-d4bc7afa10d0"
      },
      "execution_count": null,
      "outputs": [
        {
          "output_type": "stream",
          "name": "stdout",
          "text": [
            "tensor([[37.4540],\n",
            "        [95.0714],\n",
            "        [73.1994],\n",
            "        [59.8658],\n",
            "        [15.6019]])\n",
            "tensor([[-1.0000],\n",
            "        [-0.5854],\n",
            "        [ 0.2289],\n",
            "        [ 0.9445],\n",
            "        [ 0.9254]])\n"
          ]
        },
        {
          "output_type": "display_data",
          "data": {
            "text/plain": [
              "<Figure size 432x288 with 1 Axes>"
            ],
            "image/png": "[encoded data removed]"
          },
          "metadata": {
            "needs_background": "light"
          }
        }
      ]
    },
    {
      "cell_type": "markdown",
      "source": [
        "## Design a neural network"
      ],
      "metadata": {
        "id": "jrd2HWCgD1Hp"
      }
    },
    {
      "cell_type": "code",
      "source": [
        "# Define the neural network architecture\n",
        "class Net(torch.nn.Module):\n",
        "    def __init__(self, hidden_dimension, num_hidden_layers):\n",
        "        super(Net, self).__init__()\n",
        "        self.input = torch.nn.Sequential(torch.nn.Linear(1, hidden_dimension),torch.nn.ReLU())\n",
        "        # input layer\n",
        "        # B x 1 -> B x hidden_dimension (with a ReLU nonlinearity at the end)\n",
        "        self.input = torch.nn.Sequential(\n",
        "            torch.nn.Linear(1, hidden_dimension),\n",
        "            torch.nn.ReLU()) # add a sequential layer that contains a Linear layer and ReLU respectively \n",
        "        # B x hidden_dimension -> B x hidden_dimension (with a ReLU nonlinearity at the end) repeated num_hidden_layers many times\n",
        "        self.hiddens =torch.nn.ModuleList()   # add a ModuleList that contains num_hidden_layers many sequential layers each having one Linear layer and one ReLU\n",
        "        for i in range(num_hidden_layers):\n",
        "            self.hiddens.append(torch.nn.Sequential(\n",
        "                torch.nn.Linear(hidden_dimension, hidden_dimension),\n",
        "                torch.nn.ReLU()))\n",
        "        # output layer\n",
        "        # B x hidden_dimension -> B x 1\n",
        "        self.output = torch.nn.Linear(hidden_dimension, 1) # add a Linear layer\n",
        "    def forward(self, x):\n",
        "        x = self.input(x)\n",
        "        for hidden in self.hiddens:\n",
        "            x = hidden(x)\n",
        "        x = self.output(x)\n",
        "        return x\n"
      ],
      "metadata": {
        "id": "bNP6fcv7mRmY"
      },
      "execution_count": null,
      "outputs": []
    },
    {
      "cell_type": "markdown",
      "source": [
        "## Create a network, loss function and optimizer"
      ],
      "metadata": {
        "id": "Zf3vfUf7GJO4"
      }
    },
    {
      "cell_type": "code",
      "source": [
        "# Create the neural network and specify the loss function and optimizer\n",
        "net = Net(hidden_dimension=hiddensize, num_hidden_layers=num_hidden_layers) # create a network with hidden_dimension and num_hidden_layers\n",
        "criterion = torch.nn.MSELoss() # objective to minimize\n",
        "optimizer = torch.optim.Adam(net.parameters(), lr=lr) # I prefer ADAM to use\n",
        "\n",
        "#torch.optim.SGD(net.parameters(), lr=lr, momentum=momentum) # choose and create an optimizer (SGD, SGD with momentum, or ADAM)\n"
      ],
      "metadata": {
        "id": "xkV8r21MmS0e"
      },
      "execution_count": null,
      "outputs": []
    },
    {
      "cell_type": "markdown",
      "source": [
        "## Training loop (train vs val)"
      ],
      "metadata": {
        "id": "ftAMe0YyGO6J"
      }
    },
    {
      "cell_type": "code",
      "source": [
        "# Train the neural network\n",
        "\n",
        "# Set the desired error threshold\n",
        "# acceptable for the sine function\n",
        "error_threshold = 0.001\n",
        "# To display the learning curve\n",
        "losses = []\n",
        "vallosses = []\n",
        "epoch = 0\n",
        "while epoch < max_epochs:\n",
        "    epoch += 1     \n",
        "    # Zero the gradients\n",
        "    optimizer.zero_grad()\n",
        "    # Forward pass\n",
        "    y_pred = net(x_train)\n",
        "    # Compute the loss\n",
        "    loss = criterion(y_pred, y_train)\n",
        "    # Backward pass\n",
        "    loss.backward()\n",
        "    # Update the weights\n",
        "    optimizer.step()\n",
        "    # Make an evaluation on the test set every 100 epochs\n",
        "    if epoch % 100 == 0:\n",
        "        losses.append(loss.item())\n",
        "        # Test the neural network with val data\n",
        "        with torch.no_grad():\n",
        "          y_pred = net(x_test)\n",
        "        valloss = criterion(y_pred, y_test) # loss in the test set\n",
        "        vallosses.append(valloss.item())\n",
        "        # Print the loss every 1000 epochs\n",
        "        if epoch % 10000 == 0:\n",
        "            print(\"Epoch {}: Loss = {}\".format(epoch, loss.item()))\n",
        "            print('\\nValidation loss:', valloss, '\\n')\n",
        "        # Check if the error is below the threshold\n",
        "        if loss < error_threshold or epoch > 200000:\n",
        "            break\n",
        "#end of the epoch loop ------------------------------------------------\n",
        "# Plot the learning curve\n",
        "plt.plot(losses)\n",
        "plt.plot(vallosses)\n",
        "plt.title(\"Learning Curve\")\n",
        "plt.xlabel(\"Epoch\")\n",
        "plt.ylabel(\"Loss\")\n",
        "plt.show()"
      ],
      "metadata": {
        "id": "pGm00oGYnGK8",
        "colab": {
          "base_uri": "https://localhost:8080/",
          "height": 573
        },
        "outputId": "61347fa6-c3ee-456e-c88c-9a95e6c8c572"
      },
      "execution_count": null,
      "outputs": [
        {
          "output_type": "stream",
          "name": "stdout",
          "text": [
            "Epoch 10000: Loss = 0.3078831434249878\n",
            "\n",
            "Validation loss: tensor(0.2939) \n",
            "\n",
            "Epoch 20000: Loss = 0.307882159948349\n",
            "\n",
            "Validation loss: tensor(0.2933) \n",
            "\n",
            "Epoch 30000: Loss = 0.30788031220436096\n",
            "\n",
            "Validation loss: tensor(0.2932) \n",
            "\n",
            "Epoch 40000: Loss = 0.016609862446784973\n",
            "\n",
            "Validation loss: tensor(0.0250) \n",
            "\n"
          ]
        },
        {
          "output_type": "display_data",
          "data": {
            "text/plain": [
              "<Figure size 432x288 with 1 Axes>"
            ],
            "image/png": "[encoded data removed]"
          },
          "metadata": {
            "needs_background": "light"
          }
        }
      ]
    },
    {
      "cell_type": "code",
      "source": [
        "fig, ax = plt.subplots(figsize=(8, 6))\n",
        "ax.plot(range(len(losses)), losses, label='Train Loss', color='blue')\n",
        "ax.plot(range(len(vallosses)), vallosses, label='Test Loss', color='red')\n",
        "ax.set_xlabel('Epoch')\n",
        "ax.set_ylabel('Loss')\n",
        "ax.legend()\n",
        "plt.show()"
      ],
      "metadata": {
        "colab": {
          "base_uri": "https://localhost:8080/",
          "height": 388
        },
        "id": "LxL4ACJjY8PO",
        "outputId": "ffe62f62-4b6c-44e8-ef4d-d1a068ad118e"
      },
      "execution_count": null,
      "outputs": [
        {
          "output_type": "display_data",
          "data": {
            "text/plain": [
              "<Figure size 576x432 with 1 Axes>"
            ],
            "image/png": "[encoded data removed]"
          },
          "metadata": {
            "needs_background": "light"
          }
        }
      ]
    },
    {
      "cell_type": "markdown",
      "source": [
        "## Test the final model on train and test sets"
      ],
      "metadata": {
        "id": "lx8aFiO8GlJJ"
      }
    },
    {
      "cell_type": "code",
      "source": [
        "# Test the neural network with train data ---------------------\n",
        "with torch.no_grad():\n",
        "  y_pred = net(x_train) # make a forward pass on the train data\n",
        "\n",
        "loss = criterion(y_pred, y_train) # calculate the loss\n",
        "print(\"MSE on Training Set = {}\".format(loss.item()))\n",
        "#lets see the generalization error ----------------------------\n",
        "# Test the neural network with val data\n",
        "with torch.no_grad():\n",
        "  y_pred = net(x_test) # make a forward pass on the test data\n",
        "valloss = criterion(y_pred, y_test) # calculate the loss\n",
        "print(\"MSE on Test Set = {}\".format(valloss.item()))\n",
        "# Plot the test data & predictions -----------------------------\n",
        "plt.scatter(x_test.numpy(), y_test.numpy(), label='Test Data')\n",
        "plt.scatter(x_test.numpy(), y_pred.numpy(), label='Predictions')\n",
        "plt.title(\"Test Data and Predictions\")\n",
        "plt.xlabel(\"x\")\n",
        "plt.ylabel(\"y\")\n",
        "plt.legend()\n",
        "plt.show()\n"
      ],
      "metadata": {
        "id": "5_sxlpChratS",
        "colab": {
          "base_uri": "https://localhost:8080/",
          "height": 330
        },
        "outputId": "b5a50580-0567-4d23-a0f1-08d037b69db0"
      },
      "execution_count": null,
      "outputs": [
        {
          "output_type": "stream",
          "name": "stdout",
          "text": [
            "MSE on Training Set = 0.0010856322478502989\n",
            "MSE on Test Set = 0.0031587141565978527\n"
          ]
        },
        {
          "output_type": "display_data",
          "data": {
            "text/plain": [
              "<Figure size 432x288 with 1 Axes>"
            ],
            "image/png": "[encoded data removed]"
          },
          "metadata": {
            "needs_background": "light"
          }
        }
      ]
    },
    {
      "cell_type": "markdown",
      "source": [
        "# **Report**\n",
        "\n",
        "1) Try to find a good network with the given parameter range for the case of f = $2$ and 200,000 epochs. (You may want to start with f = $1$ etc. until you have some experience)\n",
        "\n",
        "2) Include a table with your configuration (network architecture as 1-25-25-1 etc), learning rate, along with train and test accuracies at 200,000 epochs. Make the best results bold.\n",
        "\n",
        "3) Include a single figure that shows the train and test loss with respect to the number of epochs for the best arconfiguration in the table. \n",
        "\n",
        "4) You may state any other findings or comments at the end.\n",
        "\n"
      ],
      "metadata": {
        "id": "_EmcN3b-_rAa"
      }
    }
  ]
}